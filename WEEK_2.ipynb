{
 "cells": [
  {
   "cell_type": "code",
   "execution_count": 1,
   "id": "5055561d-1302-44d8-8faa-06d0adceb02d",
   "metadata": {},
   "outputs": [],
   "source": [
    "import pandas as pd \n",
    "import numpy as np \n",
    "import matplotlib.pyplot as plt \n",
    "import seaborn as sns\n",
    "import warnings\n",
    "\n",
    "warnings.filterwarnings(\"ignore\")"
   ]
  },
  {
   "cell_type": "markdown",
   "id": "f521b157-302a-4694-ae65-5a28076891eb",
   "metadata": {},
   "source": [
    "# Vectorizacion -> Python, NumPy"
   ]
  },
  {
   "cell_type": "code",
   "execution_count": 3,
   "id": "e31c9b2d-a4bd-4472-9549-4066e838d80b",
   "metadata": {},
   "outputs": [
    {
     "name": "stdout",
     "output_type": "stream",
     "text": [
      "a = [0. 0. 0. 0.] > type : float64\n",
      "a = [0. 0. 0. 0.] > type : float64\n",
      "a = [0.41599466 0.37972315 0.02625675 0.31501054] > type : float64\n"
     ]
    }
   ],
   "source": [
    "# vectores con numpy \n",
    "a = np.zeros(4)\n",
    "print(f\"a = {a} > type : {a.dtype}\")\n",
    "a = np.zeros((4,))\n",
    "print(f\"a = {a} > type : {a.dtype}\")\n",
    "a = np.random.random_sample(4)\n",
    "print(f\"a = {a} > type : {a.dtype}\")"
   ]
  },
  {
   "cell_type": "code",
   "execution_count": 4,
   "id": "07d8aab1-1266-4ab3-9751-6a4d35465b9f",
   "metadata": {},
   "outputs": [
    {
     "name": "stdout",
     "output_type": "stream",
     "text": [
      "[0 1 2 3 4 5 6 7 8 9]\n"
     ]
    }
   ],
   "source": [
    "#operacion con vectores\n",
    "a = np.arange(10)\n",
    "print(a)\n",
    "\n",
    "#acceder al elemento \n",
    "try:\n",
    "    c = a[9]\n",
    "except Exception as err:\n",
    "    print(\"error\")"
   ]
  },
  {
   "cell_type": "code",
   "execution_count": 5,
   "id": "d5d28b3f-daa2-413d-aeef-06d768ee0c25",
   "metadata": {},
   "outputs": [
    {
     "name": "stdout",
     "output_type": "stream",
     "text": [
      "9\n"
     ]
    }
   ],
   "source": [
    "print(c)"
   ]
  },
  {
   "cell_type": "code",
   "execution_count": 6,
   "id": "f9c905a9-04fa-4af1-bf31-8ac9b09ff3f7",
   "metadata": {},
   "outputs": [
    {
     "name": "stdout",
     "output_type": "stream",
     "text": [
      "[0 1 2 3 4 5 6 7 8 9]\n",
      "[2 3 4 5 6 7 8]\n",
      "[3 4 5 6 7 8]\n"
     ]
    }
   ],
   "source": [
    "#Slicing \n",
    "#slicin crea un array usando tres valores (inicio:fin:pasos) \n",
    "\n",
    "a = np.arange(10)\n",
    "print(a)\n",
    "\n",
    "c = a[2:-1]\n",
    "print(c)\n",
    "\n",
    "d = a[3:-1]\n",
    "print(d)"
   ]
  },
  {
   "cell_type": "code",
   "execution_count": 7,
   "id": "a45e34ef-7eb6-424d-88b0-4bdba0cd95d8",
   "metadata": {},
   "outputs": [
    {
     "name": "stdout",
     "output_type": "stream",
     "text": [
      "suma del vector : 10\n",
      "promedio del vector : 2.5\n",
      "Multiplicando por dos el vector [2 4 6 8]\n"
     ]
    }
   ],
   "source": [
    "#Operaciones con vectores \n",
    "a = np.array([1,2,3,4])\n",
    "\n",
    "sum_vector = a.sum()\n",
    "print(f\"suma del vector : {sum_vector}\")\n",
    "\n",
    "mean_vector = a.mean()\n",
    "print(f\"promedio del vector : {mean_vector}\")\n",
    "\n",
    "#multiplicando por 2 los valores del vector \n",
    "result = a * 2 \n",
    "print(f\"Multiplicando por dos el vector {result}\")"
   ]
  },
  {
   "cell_type": "code",
   "execution_count": 8,
   "id": "f2541ab8-87cf-4d1a-98a2-dbdf0209b4f7",
   "metadata": {},
   "outputs": [
    {
     "name": "stdout",
     "output_type": "stream",
     "text": [
      "resultado : [ 6  8 10 12]\n"
     ]
    }
   ],
   "source": [
    "#Operaciones entre vectores \n",
    "a = np.array([1,2,3,4])\n",
    "b = np.array([5,6,7,8])\n",
    "\n",
    "try:\n",
    "    c = a + b \n",
    "    print(f\"resultado : {c}\")\n",
    "except Exception as err:\n",
    "    print(err)"
   ]
  },
  {
   "cell_type": "markdown",
   "id": "7167a664-b281-4831-bb34-f4ea3def6141",
   "metadata": {},
   "source": [
    "<img src=\"https://raw.githubusercontent.com/greyhatguy007/Machine-Learning-Specialization-Coursera/1a6b6fc2851e6ab2d44f86b84db316a82a70e494/C1%20-%20Supervised%20Machine%20Learning%20-%20Regression%20and%20Classification/week2/Optional%20Labs/images/C1_W2_Lab04_dot_notrans.gif\">"
   ]
  },
  {
   "cell_type": "code",
   "execution_count": 10,
   "id": "a55968ed-843f-4aa1-ada5-38762ec8e63d",
   "metadata": {},
   "outputs": [
    {
     "name": "stdout",
     "output_type": "stream",
     "text": [
      "24\n",
      "opcion dos : 24\n"
     ]
    }
   ],
   "source": [
    "#Vector Vector dot product\n",
    "def my_dot(a, b):\n",
    "    result = a * b \n",
    "    return result.sum()\n",
    "    \n",
    "a = np.array([1, 2, 3, 4])\n",
    "b = np.array([-1, 4, 3, 2])\n",
    "\n",
    "print(my_dot(a,b))\n",
    "print(f\"opcion dos : {np.dot(a,b)}\")"
   ]
  },
  {
   "cell_type": "code",
   "execution_count": 11,
   "id": "3be8cb81-3aa5-4e49-a9f8-ee97ce9fb013",
   "metadata": {},
   "outputs": [
    {
     "name": "stdout",
     "output_type": "stream",
     "text": [
      "np.dot() = 2501072.5817\n",
      "duration : 18.4121 ms\n",
      "funcion my_dot = 2501072.5817\n",
      "duration : 25.9488 ms\n"
     ]
    }
   ],
   "source": [
    "#need for speed: vectores vs loops \n",
    "#revisaremos el tiempo que toma la operacion de vector de nuestra funcion vs usando np.dot de numpy \n",
    "import time\n",
    "\n",
    "np.random.seed(1)\n",
    "a = np.random.rand(10000000)\n",
    "b = np.random.rand(10000000)\n",
    "\n",
    "tic = time.time()\n",
    "c = np.dot(a,b)\n",
    "toc = time.time()\n",
    "\n",
    "print(f\"np.dot() = {c:.4f}\")\n",
    "print(f\"duration : {1000*(toc-tic):.4f} ms\")\n",
    "\n",
    "tic = time.time()\n",
    "c = my_dot(a,b)\n",
    "toc = time.time()\n",
    "\n",
    "print(f\"funcion my_dot = {c:.4f}\")\n",
    "print(f\"duration : {1000*(toc-tic):.4f} ms\")\n"
   ]
  },
  {
   "cell_type": "code",
   "execution_count": 12,
   "id": "b215e706-b9e7-4c9c-9e65-7f372bb086ca",
   "metadata": {},
   "outputs": [
    {
     "name": "stdout",
     "output_type": "stream",
     "text": [
      "[[0. 0. 0. 0. 0.]\n",
      " [0. 0. 0. 0. 0.]\n",
      " [0. 0. 0. 0. 0.]\n",
      " [0. 0. 0. 0. 0.]\n",
      " [0. 0. 0. 0. 0.]]\n"
     ]
    }
   ],
   "source": [
    "#Matrices \n",
    "a = np.zeros((5,5)) # 5x5 es la dimension de nuestra matriz\n",
    "print(a)"
   ]
  },
  {
   "cell_type": "code",
   "execution_count": 13,
   "id": "6f1614bf-49f0-4122-8f35-b1fce1f51f88",
   "metadata": {},
   "outputs": [
    {
     "data": {
      "text/plain": [
       "(5, 5)"
      ]
     },
     "execution_count": 13,
     "metadata": {},
     "output_type": "execute_result"
    }
   ],
   "source": [
    "#como revisamos la dimension? \n",
    "a.shape # esta linea de codigo nos retorna la dimension a la matriz consultada"
   ]
  },
  {
   "cell_type": "code",
   "execution_count": 14,
   "id": "561a6d9f-974b-4594-a51d-d3df0b529738",
   "metadata": {},
   "outputs": [
    {
     "name": "stdout",
     "output_type": "stream",
     "text": [
      "[[0. 0. 0. 0. 0. 0. 0. 0. 0. 0. 0. 0. 0. 0. 0. 0. 0. 0. 0. 0. 0. 0. 0. 0.\n",
      "  0.]]\n",
      "[[0]\n",
      " [1]\n",
      " [2]\n",
      " [3]\n",
      " [4]\n",
      " [5]]\n"
     ]
    }
   ],
   "source": [
    "# cambiando la dimension de una matriz \n",
    "b = a.reshape(1,-1)\n",
    "print(b)\n",
    "\n",
    "c = np.arange(6).reshape(-1,1)\n",
    "print(c)"
   ]
  },
  {
   "cell_type": "code",
   "execution_count": 37,
   "id": "501d851b-2e5f-42f7-a19b-923f676a5334",
   "metadata": {},
   "outputs": [
    {
     "name": "stdout",
     "output_type": "stream",
     "text": [
      "a.shape : (3, 2)\n",
      "a[2,0].shape : (), a[2,0] = 4 \n"
     ]
    },
    {
     "data": {
      "text/plain": [
       "array([4, 5])"
      ]
     },
     "execution_count": 37,
     "metadata": {},
     "output_type": "execute_result"
    }
   ],
   "source": [
    "#Matrices \n",
    "a = np.arange(6).reshape(-1,2)\n",
    "print(f\"a.shape : {a.shape}\")\n",
    "\n",
    "##acceder a un elemento \n",
    "print(f\"a[2,0].shape : {a[2,0].shape}, a[2,0] = {a[2,0]} \")\n",
    "\n",
    "##acceder a uina fila \n",
    "a[2]"
   ]
  },
  {
   "cell_type": "code",
   "execution_count": 39,
   "id": "273bc77f-ddf6-4c94-af88-6254a80ca836",
   "metadata": {},
   "outputs": [
    {
     "data": {
      "text/plain": [
       "array([[ 0,  1,  2,  3,  4,  5,  6,  7,  8,  9],\n",
       "       [10, 11, 12, 13, 14, 15, 16, 17, 18, 19]])"
      ]
     },
     "execution_count": 39,
     "metadata": {},
     "output_type": "execute_result"
    }
   ],
   "source": [
    "#slicing \n",
    "a = np.arange(20).reshape(-1,10)\n",
    "a"
   ]
  },
  {
   "cell_type": "code",
   "execution_count": 41,
   "id": "60e30252-3a7d-40b1-95c0-7387074c509d",
   "metadata": {},
   "outputs": [
    {
     "data": {
      "text/plain": [
       "array([12, 13])"
      ]
     },
     "execution_count": 41,
     "metadata": {},
     "output_type": "execute_result"
    }
   ],
   "source": [
    "a[1,2:4]"
   ]
  },
  {
   "cell_type": "code",
   "execution_count": null,
   "id": "40bf1302-b2f3-4c84-ac75-d9ba33c74a49",
   "metadata": {},
   "outputs": [],
   "source": []
  }
 ],
 "metadata": {
  "kernelspec": {
   "display_name": "Python 3 (ipykernel)",
   "language": "python",
   "name": "python3"
  },
  "language_info": {
   "codemirror_mode": {
    "name": "ipython",
    "version": 3
   },
   "file_extension": ".py",
   "mimetype": "text/x-python",
   "name": "python",
   "nbconvert_exporter": "python",
   "pygments_lexer": "ipython3",
   "version": "3.12.4"
  }
 },
 "nbformat": 4,
 "nbformat_minor": 5
}
